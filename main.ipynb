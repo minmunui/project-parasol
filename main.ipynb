{
 "cells": [
  {
   "cell_type": "code",
   "execution_count": 40,
   "metadata": {},
   "outputs": [
    {
     "data": {
      "text/plain": [
       "{'stock_data': array([[1.98528534e+02, 1.99524521e+02, 1.96196198e+02, 1.96946945e+02,\n",
       "         1.96946945e+02, 3.43370000e+06],\n",
       "        [1.96171173e+02, 2.02702698e+02, 1.95195190e+02, 2.02382385e+02,\n",
       "         2.02382385e+02, 6.20270000e+06],\n",
       "        [2.03023026e+02, 2.06136139e+02, 2.02607605e+02, 2.02982986e+02,\n",
       "         2.02982986e+02, 6.06250000e+06],\n",
       "        [2.04544540e+02, 2.06016022e+02, 2.02507507e+02, 2.05405411e+02,\n",
       "         2.05405411e+02, 5.33220000e+06],\n",
       "        [2.06261261e+02, 2.08823822e+02, 2.05555557e+02, 2.08823822e+02,\n",
       "         2.08823822e+02, 5.29110000e+06],\n",
       "        [2.09574570e+02, 2.15015015e+02, 2.09474472e+02, 2.13493500e+02,\n",
       "         2.13493500e+02, 6.63810000e+06],\n",
       "        [2.13338333e+02, 2.15195190e+02, 2.11911911e+02, 2.14414413e+02,\n",
       "         2.14414413e+02, 5.24190000e+06],\n",
       "        [2.13213211e+02, 2.16446442e+02, 2.12212219e+02, 2.16041046e+02,\n",
       "         2.16041046e+02, 7.05850000e+06],\n",
       "        [2.17867874e+02, 2.20840836e+02, 2.17467468e+02, 2.20360367e+02,\n",
       "         2.20360367e+02, 7.26890000e+06],\n",
       "        [2.22757751e+02, 2.23893890e+02, 2.19949951e+02, 2.22382385e+02,\n",
       "         2.22382385e+02, 7.35420000e+06],\n",
       "        [2.19969971e+02, 2.20680679e+02, 2.17277283e+02, 2.19604599e+02,\n",
       "         2.19604599e+02, 6.19120000e+06],\n",
       "        [2.19509506e+02, 2.20470474e+02, 2.16096100e+02, 2.18028030e+02,\n",
       "         2.18028030e+02, 6.50320000e+06],\n",
       "        [2.18333328e+02, 2.19164169e+02, 2.13548553e+02, 2.16516510e+02,\n",
       "         2.16516510e+02, 6.71100000e+06],\n",
       "        [2.16101105e+02, 2.17082077e+02, 2.14399399e+02, 2.14714722e+02,\n",
       "         2.14714722e+02, 5.72460000e+06],\n",
       "        [2.13643646e+02, 2.14064072e+02, 2.10815811e+02, 2.12632629e+02,\n",
       "         2.12632629e+02, 5.83090000e+06],\n",
       "        [2.10960968e+02, 2.10960968e+02, 2.07207214e+02, 2.08593597e+02,\n",
       "         2.08593597e+02, 7.46630000e+06],\n",
       "        [2.09864868e+02, 2.10755753e+02, 2.07917923e+02, 2.08208206e+02,\n",
       "         2.08208206e+02, 6.09330000e+06],\n",
       "        [2.08303299e+02, 2.10070068e+02, 2.05985992e+02, 2.07787781e+02,\n",
       "         2.07787781e+02, 6.97320000e+06],\n",
       "        [2.08048050e+02, 2.09554550e+02, 2.06706711e+02, 2.07237244e+02,\n",
       "         2.07237244e+02, 6.16420000e+06],\n",
       "        [2.09314316e+02, 2.10440445e+02, 2.07497498e+02, 2.10255249e+02,\n",
       "         2.10255249e+02, 8.50960000e+06]]),\n",
       " 'holding': 0,\n",
       " 'avg_buy_price': 0}"
      ]
     },
     "execution_count": 40,
     "metadata": {},
     "output_type": "execute_result"
    }
   ],
   "source": [
    "import src.rl_env.env_ls as env_ls\n",
    "import src.rl_env.env_ls_with_short_reward as env_ls_rs\n",
    "import src.rl_env.env_bs as env_bs\n",
    "import src.utils.utils as utils\n",
    "\n",
    "url = './data/STOCKS_GOOGL.csv'\n",
    "\n",
    "stock_info = utils.load_data(url)\n",
    "env_ls = env_ls.MyEnv(stock_info)\n",
    "env_ls_rs = env_ls_rs.MyEnv(stock_info)\n",
    "env_bs = env_bs.MyEnv(stock_info)\n",
    "\n",
    "\n",
    "env_ls.reset()\n",
    "env_ls_rs.reset()\n",
    "env_bs.reset()"
   ]
  },
  {
   "cell_type": "code",
   "execution_count": 41,
   "metadata": {},
   "outputs": [],
   "source": [
    "from stable_baselines3 import PPO"
   ]
  },
  {
   "cell_type": "code",
   "execution_count": 42,
   "metadata": {},
   "outputs": [
    {
     "name": "stdout",
     "output_type": "stream",
     "text": [
      "Using cpu device\n",
      "Wrapping the env with a `Monitor` wrapper\n",
      "Wrapping the env in a DummyVecEnv.\n",
      "Using cpu device\n",
      "Wrapping the env with a `Monitor` wrapper\n",
      "Wrapping the env in a DummyVecEnv.\n",
      "Using cpu device\n",
      "Wrapping the env with a `Monitor` wrapper\n",
      "Wrapping the env in a DummyVecEnv.\n"
     ]
    },
    {
     "name": "stderr",
     "output_type": "stream",
     "text": [
      "/Users/minmunui/anaconda3/envs/project-parasol/lib/python3.10/site-packages/stable_baselines3/common/vec_env/patch_gym.py:49: UserWarning: You provided an OpenAI Gym environment. We strongly recommend transitioning to Gymnasium environments. Stable-Baselines3 is automatically wrapping your environments in a compatibility layer, which could potentially cause issues.\n",
      "  warnings.warn(\n"
     ]
    }
   ],
   "source": [
    "model_ls = PPO('MlpPolicy', env_ls, verbose=1)\n",
    "model_ls_rs = PPO('MlpPolicy', env_ls_rs, verbose=1)\n",
    "model_bs = PPO('MultiInputPolicy', env_bs, verbose=1)"
   ]
  },
  {
   "cell_type": "code",
   "execution_count": 43,
   "metadata": {},
   "outputs": [
    {
     "data": {
      "application/vnd.jupyter.widget-view+json": {
       "model_id": "00116578c5c14d6dbcd499782740c57d",
       "version_major": 2,
       "version_minor": 0
      },
      "text/plain": [
       "Output()"
      ]
     },
     "metadata": {},
     "output_type": "display_data"
    },
    {
     "name": "stdout",
     "output_type": "stream",
     "text": [
      "---------------------------------\n",
      "| rollout/           |          |\n",
      "|    ep_len_mean     | 11       |\n",
      "|    ep_rew_mean     | -0.951   |\n",
      "| time/              |          |\n",
      "|    fps             | 2240     |\n",
      "|    iterations      | 1        |\n",
      "|    time_elapsed    | 0        |\n",
      "|    total_timesteps | 2048     |\n",
      "---------------------------------\n",
      "-----------------------------------------\n",
      "| rollout/                |             |\n",
      "|    ep_len_mean          | 11          |\n",
      "|    ep_rew_mean          | -0.463      |\n",
      "| time/                   |             |\n",
      "|    fps                  | 1549        |\n",
      "|    iterations           | 2           |\n",
      "|    time_elapsed         | 2           |\n",
      "|    total_timesteps      | 4096        |\n",
      "| train/                  |             |\n",
      "|    approx_kl            | 0.010484296 |\n",
      "|    clip_fraction        | 0.18        |\n",
      "|    clip_range           | 0.2         |\n",
      "|    entropy_loss         | -0.683      |\n",
      "|    explained_variance   | -0.106      |\n",
      "|    learning_rate        | 0.0003      |\n",
      "|    loss                 | 0.203       |\n",
      "|    n_updates            | 10          |\n",
      "|    policy_gradient_loss | -0.0298     |\n",
      "|    value_loss           | 0.556       |\n",
      "-----------------------------------------\n",
      "-----------------------------------------\n",
      "| rollout/                |             |\n",
      "|    ep_len_mean          | 11          |\n",
      "|    ep_rew_mean          | 0.0149      |\n",
      "| time/                   |             |\n",
      "|    fps                  | 1378        |\n",
      "|    iterations           | 3           |\n",
      "|    time_elapsed         | 4           |\n",
      "|    total_timesteps      | 6144        |\n",
      "| train/                  |             |\n",
      "|    approx_kl            | 0.017948212 |\n",
      "|    clip_fraction        | 0.256       |\n",
      "|    clip_range           | 0.2         |\n",
      "|    entropy_loss         | -0.651      |\n",
      "|    explained_variance   | 0.0551      |\n",
      "|    learning_rate        | 0.0003      |\n",
      "|    loss                 | 0.146       |\n",
      "|    n_updates            | 20          |\n",
      "|    policy_gradient_loss | -0.0414     |\n",
      "|    value_loss           | 0.439       |\n",
      "-----------------------------------------\n",
      "----------------------------------------\n",
      "| rollout/                |            |\n",
      "|    ep_len_mean          | 11         |\n",
      "|    ep_rew_mean          | 0.625      |\n",
      "| time/                   |            |\n",
      "|    fps                  | 1315       |\n",
      "|    iterations           | 4          |\n",
      "|    time_elapsed         | 6          |\n",
      "|    total_timesteps      | 8192       |\n",
      "| train/                  |            |\n",
      "|    approx_kl            | 0.03654349 |\n",
      "|    clip_fraction        | 0.251      |\n",
      "|    clip_range           | 0.2        |\n",
      "|    entropy_loss         | -0.57      |\n",
      "|    explained_variance   | 0.122      |\n",
      "|    learning_rate        | 0.0003     |\n",
      "|    loss                 | 0.12       |\n",
      "|    n_updates            | 30         |\n",
      "|    policy_gradient_loss | -0.0421    |\n",
      "|    value_loss           | 0.414      |\n",
      "----------------------------------------\n",
      "----------------------------------------\n",
      "| rollout/                |            |\n",
      "|    ep_len_mean          | 11         |\n",
      "|    ep_rew_mean          | 0.845      |\n",
      "| time/                   |            |\n",
      "|    fps                  | 1266       |\n",
      "|    iterations           | 5          |\n",
      "|    time_elapsed         | 8          |\n",
      "|    total_timesteps      | 10240      |\n",
      "| train/                  |            |\n",
      "|    approx_kl            | 0.01978867 |\n",
      "|    clip_fraction        | 0.113      |\n",
      "|    clip_range           | 0.2        |\n",
      "|    entropy_loss         | -0.472     |\n",
      "|    explained_variance   | 0.262      |\n",
      "|    learning_rate        | 0.0003     |\n",
      "|    loss                 | 0.142      |\n",
      "|    n_updates            | 40         |\n",
      "|    policy_gradient_loss | -0.0226    |\n",
      "|    value_loss           | 0.345      |\n",
      "----------------------------------------\n"
     ]
    },
    {
     "data": {
      "text/html": [
       "<pre style=\"white-space:pre;overflow-x:auto;line-height:normal;font-family:Menlo,'DejaVu Sans Mono',consolas,'Courier New',monospace\"></pre>\n"
      ],
      "text/plain": []
     },
     "metadata": {},
     "output_type": "display_data"
    },
    {
     "data": {
      "text/html": [
       "<pre style=\"white-space:pre;overflow-x:auto;line-height:normal;font-family:Menlo,'DejaVu Sans Mono',consolas,'Courier New',monospace\">\n",
       "</pre>\n"
      ],
      "text/plain": [
       "\n"
      ]
     },
     "metadata": {},
     "output_type": "display_data"
    },
    {
     "data": {
      "text/plain": [
       "<stable_baselines3.ppo.ppo.PPO at 0x148dcfa00>"
      ]
     },
     "execution_count": 43,
     "metadata": {},
     "output_type": "execute_result"
    }
   ],
   "source": [
    "model_ls.learn(total_timesteps=10000, log_interval=1, progress_bar=True)"
   ]
  },
  {
   "cell_type": "code",
   "execution_count": 44,
   "metadata": {},
   "outputs": [
    {
     "data": {
      "application/vnd.jupyter.widget-view+json": {
       "model_id": "19fe5eab7fb24731bee062f3c5aa7360",
       "version_major": 2,
       "version_minor": 0
      },
      "text/plain": [
       "Output()"
      ]
     },
     "metadata": {},
     "output_type": "display_data"
    },
    {
     "name": "stdout",
     "output_type": "stream",
     "text": [
      "---------------------------------\n",
      "| rollout/           |          |\n",
      "|    ep_len_mean     | 11       |\n",
      "|    ep_rew_mean     | 0.0919   |\n",
      "| time/              |          |\n",
      "|    fps             | 2216     |\n",
      "|    iterations      | 1        |\n",
      "|    time_elapsed    | 0        |\n",
      "|    total_timesteps | 2048     |\n",
      "---------------------------------\n",
      "-----------------------------------------\n",
      "| rollout/                |             |\n",
      "|    ep_len_mean          | 11          |\n",
      "|    ep_rew_mean          | 1.27        |\n",
      "| time/                   |             |\n",
      "|    fps                  | 1514        |\n",
      "|    iterations           | 2           |\n",
      "|    time_elapsed         | 2           |\n",
      "|    total_timesteps      | 4096        |\n",
      "| train/                  |             |\n",
      "|    approx_kl            | 0.016646264 |\n",
      "|    clip_fraction        | 0.307       |\n",
      "|    clip_range           | 0.2         |\n",
      "|    entropy_loss         | -0.678      |\n",
      "|    explained_variance   | -0.0586     |\n",
      "|    learning_rate        | 0.0003      |\n",
      "|    loss                 | 0.766       |\n",
      "|    n_updates            | 10          |\n",
      "|    policy_gradient_loss | -0.0462     |\n",
      "|    value_loss           | 1.45        |\n",
      "-----------------------------------------\n",
      "-----------------------------------------\n",
      "| rollout/                |             |\n",
      "|    ep_len_mean          | 11          |\n",
      "|    ep_rew_mean          | 2.31        |\n",
      "| time/                   |             |\n",
      "|    fps                  | 1353        |\n",
      "|    iterations           | 3           |\n",
      "|    time_elapsed         | 4           |\n",
      "|    total_timesteps      | 6144        |\n",
      "| train/                  |             |\n",
      "|    approx_kl            | 0.023386886 |\n",
      "|    clip_fraction        | 0.304       |\n",
      "|    clip_range           | 0.2         |\n",
      "|    entropy_loss         | -0.632      |\n",
      "|    explained_variance   | -0.00631    |\n",
      "|    learning_rate        | 0.0003      |\n",
      "|    loss                 | 0.677       |\n",
      "|    n_updates            | 20          |\n",
      "|    policy_gradient_loss | -0.0533     |\n",
      "|    value_loss           | 1.4         |\n",
      "-----------------------------------------\n",
      "----------------------------------------\n",
      "| rollout/                |            |\n",
      "|    ep_len_mean          | 11         |\n",
      "|    ep_rew_mean          | 3.55       |\n",
      "| time/                   |            |\n",
      "|    fps                  | 1303       |\n",
      "|    iterations           | 4          |\n",
      "|    time_elapsed         | 6          |\n",
      "|    total_timesteps      | 8192       |\n",
      "| train/                  |            |\n",
      "|    approx_kl            | 0.03375557 |\n",
      "|    clip_fraction        | 0.256      |\n",
      "|    clip_range           | 0.2        |\n",
      "|    entropy_loss         | -0.541     |\n",
      "|    explained_variance   | 0.0374     |\n",
      "|    learning_rate        | 0.0003     |\n",
      "|    loss                 | 0.806      |\n",
      "|    n_updates            | 30         |\n",
      "|    policy_gradient_loss | -0.05      |\n",
      "|    value_loss           | 1.43       |\n",
      "----------------------------------------\n",
      "-----------------------------------------\n",
      "| rollout/                |             |\n",
      "|    ep_len_mean          | 11          |\n",
      "|    ep_rew_mean          | 4.33        |\n",
      "| time/                   |             |\n",
      "|    fps                  | 1268        |\n",
      "|    iterations           | 5           |\n",
      "|    time_elapsed         | 8           |\n",
      "|    total_timesteps      | 10240       |\n",
      "| train/                  |             |\n",
      "|    approx_kl            | 0.025766976 |\n",
      "|    clip_fraction        | 0.137       |\n",
      "|    clip_range           | 0.2         |\n",
      "|    entropy_loss         | -0.429      |\n",
      "|    explained_variance   | 0.244       |\n",
      "|    learning_rate        | 0.0003      |\n",
      "|    loss                 | 0.43        |\n",
      "|    n_updates            | 40          |\n",
      "|    policy_gradient_loss | -0.0346     |\n",
      "|    value_loss           | 0.983       |\n",
      "-----------------------------------------\n"
     ]
    },
    {
     "data": {
      "text/html": [
       "<pre style=\"white-space:pre;overflow-x:auto;line-height:normal;font-family:Menlo,'DejaVu Sans Mono',consolas,'Courier New',monospace\"></pre>\n"
      ],
      "text/plain": []
     },
     "metadata": {},
     "output_type": "display_data"
    },
    {
     "data": {
      "text/html": [
       "<pre style=\"white-space:pre;overflow-x:auto;line-height:normal;font-family:Menlo,'DejaVu Sans Mono',consolas,'Courier New',monospace\">\n",
       "</pre>\n"
      ],
      "text/plain": [
       "\n"
      ]
     },
     "metadata": {},
     "output_type": "display_data"
    },
    {
     "data": {
      "text/plain": [
       "<stable_baselines3.ppo.ppo.PPO at 0x148dcde40>"
      ]
     },
     "execution_count": 44,
     "metadata": {},
     "output_type": "execute_result"
    }
   ],
   "source": [
    "model_ls_rs.learn(total_timesteps=10000, log_interval=1, progress_bar=True)"
   ]
  },
  {
   "cell_type": "code",
   "execution_count": 45,
   "metadata": {},
   "outputs": [
    {
     "data": {
      "application/vnd.jupyter.widget-view+json": {
       "model_id": "26a8329cbca54254ad03cbafdd499739",
       "version_major": 2,
       "version_minor": 0
      },
      "text/plain": [
       "Output()"
      ]
     },
     "metadata": {},
     "output_type": "display_data"
    },
    {
     "name": "stdout",
     "output_type": "stream",
     "text": [
      "-----------------------------\n",
      "| time/              |      |\n",
      "|    fps             | 1982 |\n",
      "|    iterations      | 1    |\n",
      "|    time_elapsed    | 1    |\n",
      "|    total_timesteps | 2048 |\n",
      "-----------------------------\n",
      "------------------------------------------\n",
      "| rollout/                |              |\n",
      "|    ep_len_mean          | 2.32e+03     |\n",
      "|    ep_rew_mean          | 15.7         |\n",
      "| time/                   |              |\n",
      "|    fps                  | 1393         |\n",
      "|    iterations           | 2            |\n",
      "|    time_elapsed         | 2            |\n",
      "|    total_timesteps      | 4096         |\n",
      "| train/                  |              |\n",
      "|    approx_kl            | 0.0052995645 |\n",
      "|    clip_fraction        | 0.0227       |\n",
      "|    clip_range           | 0.2          |\n",
      "|    entropy_loss         | -1.09        |\n",
      "|    explained_variance   | -0.36        |\n",
      "|    learning_rate        | 0.0003       |\n",
      "|    loss                 | 0.434        |\n",
      "|    n_updates            | 10           |\n",
      "|    policy_gradient_loss | -0.00564     |\n",
      "|    value_loss           | 0.779        |\n",
      "------------------------------------------\n",
      "-----------------------------------------\n",
      "| rollout/                |             |\n",
      "|    ep_len_mean          | 2.32e+03    |\n",
      "|    ep_rew_mean          | 30.3        |\n",
      "| time/                   |             |\n",
      "|    fps                  | 1247        |\n",
      "|    iterations           | 3           |\n",
      "|    time_elapsed         | 4           |\n",
      "|    total_timesteps      | 6144        |\n",
      "| train/                  |             |\n",
      "|    approx_kl            | 0.008716192 |\n",
      "|    clip_fraction        | 0.042       |\n",
      "|    clip_range           | 0.2         |\n",
      "|    entropy_loss         | -1.08       |\n",
      "|    explained_variance   | 0.014       |\n",
      "|    learning_rate        | 0.0003      |\n",
      "|    loss                 | 0.516       |\n",
      "|    n_updates            | 20          |\n",
      "|    policy_gradient_loss | -0.00773    |\n",
      "|    value_loss           | 1.14        |\n",
      "-----------------------------------------\n",
      "------------------------------------------\n",
      "| rollout/                |              |\n",
      "|    ep_len_mean          | 2.32e+03     |\n",
      "|    ep_rew_mean          | 31.8         |\n",
      "| time/                   |              |\n",
      "|    fps                  | 1196         |\n",
      "|    iterations           | 4            |\n",
      "|    time_elapsed         | 6            |\n",
      "|    total_timesteps      | 8192         |\n",
      "| train/                  |              |\n",
      "|    approx_kl            | 0.0068219295 |\n",
      "|    clip_fraction        | 0.048        |\n",
      "|    clip_range           | 0.2          |\n",
      "|    entropy_loss         | -1.06        |\n",
      "|    explained_variance   | 0.0272       |\n",
      "|    learning_rate        | 0.0003       |\n",
      "|    loss                 | 0.554        |\n",
      "|    n_updates            | 30           |\n",
      "|    policy_gradient_loss | -0.00964     |\n",
      "|    value_loss           | 1.09         |\n",
      "------------------------------------------\n",
      "----------------------------------------\n",
      "| rollout/                |            |\n",
      "|    ep_len_mean          | 2.32e+03   |\n",
      "|    ep_rew_mean          | 39.2       |\n",
      "| time/                   |            |\n",
      "|    fps                  | 1173       |\n",
      "|    iterations           | 5          |\n",
      "|    time_elapsed         | 8          |\n",
      "|    total_timesteps      | 10240      |\n",
      "| train/                  |            |\n",
      "|    approx_kl            | 0.00608762 |\n",
      "|    clip_fraction        | 0.0545     |\n",
      "|    clip_range           | 0.2        |\n",
      "|    entropy_loss         | -1.05      |\n",
      "|    explained_variance   | 0.0516     |\n",
      "|    learning_rate        | 0.0003     |\n",
      "|    loss                 | 0.66       |\n",
      "|    n_updates            | 40         |\n",
      "|    policy_gradient_loss | -0.00983   |\n",
      "|    value_loss           | 1.38       |\n",
      "----------------------------------------\n"
     ]
    },
    {
     "data": {
      "text/html": [
       "<pre style=\"white-space:pre;overflow-x:auto;line-height:normal;font-family:Menlo,'DejaVu Sans Mono',consolas,'Courier New',monospace\"></pre>\n"
      ],
      "text/plain": []
     },
     "metadata": {},
     "output_type": "display_data"
    },
    {
     "data": {
      "text/html": [
       "<pre style=\"white-space:pre;overflow-x:auto;line-height:normal;font-family:Menlo,'DejaVu Sans Mono',consolas,'Courier New',monospace\">\n",
       "</pre>\n"
      ],
      "text/plain": [
       "\n"
      ]
     },
     "metadata": {},
     "output_type": "display_data"
    },
    {
     "data": {
      "text/plain": [
       "<stable_baselines3.ppo.ppo.PPO at 0x148dce3e0>"
      ]
     },
     "execution_count": 45,
     "metadata": {},
     "output_type": "execute_result"
    }
   ],
   "source": [
    "model_bs.learn(total_timesteps=10000, log_interval=1, progress_bar=True)"
   ]
  },
  {
   "cell_type": "code",
   "execution_count": null,
   "metadata": {},
   "outputs": [],
   "source": []
  }
 ],
 "metadata": {
  "kernelspec": {
   "display_name": "Python 3 (ipykernel)",
   "language": "python",
   "name": "python3"
  },
  "language_info": {
   "codemirror_mode": {
    "name": "ipython",
    "version": 3
   },
   "file_extension": ".py",
   "mimetype": "text/x-python",
   "name": "python",
   "nbconvert_exporter": "python",
   "pygments_lexer": "ipython3",
   "version": "3.10.12"
  }
 },
 "nbformat": 4,
 "nbformat_minor": 4
}
