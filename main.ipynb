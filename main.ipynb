{
 "cells": [
  {
   "cell_type": "code",
   "execution_count": 14,
   "metadata": {
    "collapsed": true
   },
   "outputs": [
    {
     "data": {
      "text/plain": "array([[1.98528534e+02, 1.99524521e+02, 1.96196198e+02, 1.96946945e+02,\n        1.96946945e+02, 3.43370000e+06],\n       [1.96171173e+02, 2.02702698e+02, 1.95195190e+02, 2.02382385e+02,\n        2.02382385e+02, 6.20270000e+06],\n       [2.03023026e+02, 2.06136139e+02, 2.02607605e+02, 2.02982986e+02,\n        2.02982986e+02, 6.06250000e+06],\n       [2.04544540e+02, 2.06016022e+02, 2.02507507e+02, 2.05405411e+02,\n        2.05405411e+02, 5.33220000e+06],\n       [2.06261261e+02, 2.08823822e+02, 2.05555557e+02, 2.08823822e+02,\n        2.08823822e+02, 5.29110000e+06],\n       [2.09574570e+02, 2.15015015e+02, 2.09474472e+02, 2.13493500e+02,\n        2.13493500e+02, 6.63810000e+06],\n       [2.13338333e+02, 2.15195190e+02, 2.11911911e+02, 2.14414413e+02,\n        2.14414413e+02, 5.24190000e+06],\n       [2.13213211e+02, 2.16446442e+02, 2.12212219e+02, 2.16041046e+02,\n        2.16041046e+02, 7.05850000e+06],\n       [2.17867874e+02, 2.20840836e+02, 2.17467468e+02, 2.20360367e+02,\n        2.20360367e+02, 7.26890000e+06],\n       [2.22757751e+02, 2.23893890e+02, 2.19949951e+02, 2.22382385e+02,\n        2.22382385e+02, 7.35420000e+06],\n       [2.19969971e+02, 2.20680679e+02, 2.17277283e+02, 2.19604599e+02,\n        2.19604599e+02, 6.19120000e+06],\n       [2.19509506e+02, 2.20470474e+02, 2.16096100e+02, 2.18028030e+02,\n        2.18028030e+02, 6.50320000e+06],\n       [2.18333328e+02, 2.19164169e+02, 2.13548553e+02, 2.16516510e+02,\n        2.16516510e+02, 6.71100000e+06],\n       [2.16101105e+02, 2.17082077e+02, 2.14399399e+02, 2.14714722e+02,\n        2.14714722e+02, 5.72460000e+06],\n       [2.13643646e+02, 2.14064072e+02, 2.10815811e+02, 2.12632629e+02,\n        2.12632629e+02, 5.83090000e+06],\n       [2.10960968e+02, 2.10960968e+02, 2.07207214e+02, 2.08593597e+02,\n        2.08593597e+02, 7.46630000e+06],\n       [2.09864868e+02, 2.10755753e+02, 2.07917923e+02, 2.08208206e+02,\n        2.08208206e+02, 6.09330000e+06],\n       [2.08303299e+02, 2.10070068e+02, 2.05985992e+02, 2.07787781e+02,\n        2.07787781e+02, 6.97320000e+06],\n       [2.08048050e+02, 2.09554550e+02, 2.06706711e+02, 2.07237244e+02,\n        2.07237244e+02, 6.16420000e+06],\n       [2.09314316e+02, 2.10440445e+02, 2.07497498e+02, 2.10255249e+02,\n        2.10255249e+02, 8.50960000e+06]])"
     },
     "execution_count": 14,
     "metadata": {},
     "output_type": "execute_result"
    }
   ],
   "source": [
    "import src.env.env_ls as env\n",
    "import src.utils.utils as utils\n",
    "\n",
    "url = './data/STOCKS_GOOGL.csv'\n",
    "\n",
    "stock_info = utils.load_data(url)\n",
    "env = env.MyEnv(stock_info)\n",
    "env.reset()"
   ]
  },
  {
   "cell_type": "code",
   "execution_count": 16,
   "metadata": {},
   "outputs": [],
   "source": [
    "from stable_baselines3 import PPO\n",
    "from stable_baselines3 import DQN"
   ]
  },
  {
   "cell_type": "code",
   "execution_count": 17,
   "metadata": {},
   "outputs": [
    {
     "name": "stdout",
     "output_type": "stream",
     "text": [
      "Using cpu device\n",
      "Wrapping the env with a `Monitor` wrapper\n",
      "Wrapping the env in a DummyVecEnv.\n"
     ]
    },
    {
     "name": "stderr",
     "output_type": "stream",
     "text": [
      "/Users/minmunui/anaconda3/envs/TradingAnything/lib/python3.10/site-packages/stable_baselines3/common/vec_env/patch_gym.py:49: UserWarning: You provided an OpenAI Gym environment. We strongly recommend transitioning to Gymnasium environments. Stable-Baselines3 is automatically wrapping your environments in a compatibility layer, which could potentially cause issues.\n",
      "  warnings.warn(\n"
     ]
    }
   ],
   "source": [
    "model = PPO('MlpPolicy', env, verbose=1)"
   ]
  },
  {
   "cell_type": "code",
   "execution_count": 18,
   "metadata": {},
   "outputs": [
    {
     "data": {
      "text/plain": "Output()",
      "application/vnd.jupyter.widget-view+json": {
       "version_major": 2,
       "version_minor": 0,
       "model_id": "3ba1f35a0e6141ee9085156eafb2bfde"
      }
     },
     "metadata": {},
     "output_type": "display_data"
    },
    {
     "name": "stdout",
     "output_type": "stream",
     "text": [
      "---------------------------------\n",
      "| rollout/           |          |\n",
      "|    ep_len_mean     | 11       |\n",
      "|    ep_rew_mean     | 0.022    |\n",
      "| time/              |          |\n",
      "|    fps             | 1551     |\n",
      "|    iterations      | 1        |\n",
      "|    time_elapsed    | 1        |\n",
      "|    total_timesteps | 2048     |\n",
      "---------------------------------\n",
      "-----------------------------------------\n",
      "| rollout/                |             |\n",
      "|    ep_len_mean          | 11          |\n",
      "|    ep_rew_mean          | 0.0165      |\n",
      "| time/                   |             |\n",
      "|    fps                  | 1203        |\n",
      "|    iterations           | 2           |\n",
      "|    time_elapsed         | 3           |\n",
      "|    total_timesteps      | 4096        |\n",
      "| train/                  |             |\n",
      "|    approx_kl            | 0.006049564 |\n",
      "|    clip_fraction        | 0.00854     |\n",
      "|    clip_range           | 0.2         |\n",
      "|    entropy_loss         | -0.691      |\n",
      "|    explained_variance   | -43.1       |\n",
      "|    learning_rate        | 0.0003      |\n",
      "|    loss                 | -0.0109     |\n",
      "|    n_updates            | 10          |\n",
      "|    policy_gradient_loss | -0.00258    |\n",
      "|    value_loss           | 0.00502     |\n",
      "-----------------------------------------\n",
      "----------------------------------------\n",
      "| rollout/                |            |\n",
      "|    ep_len_mean          | 11         |\n",
      "|    ep_rew_mean          | 0.0571     |\n",
      "| time/                   |            |\n",
      "|    fps                  | 1168       |\n",
      "|    iterations           | 3          |\n",
      "|    time_elapsed         | 5          |\n",
      "|    total_timesteps      | 6144       |\n",
      "| train/                  |            |\n",
      "|    approx_kl            | 0.02293331 |\n",
      "|    clip_fraction        | 0.278      |\n",
      "|    clip_range           | 0.2        |\n",
      "|    entropy_loss         | -0.668     |\n",
      "|    explained_variance   | -0.143     |\n",
      "|    learning_rate        | 0.0003     |\n",
      "|    loss                 | -0.0515    |\n",
      "|    n_updates            | 20         |\n",
      "|    policy_gradient_loss | -0.0403    |\n",
      "|    value_loss           | 0.00154    |\n",
      "----------------------------------------\n",
      "-----------------------------------------\n",
      "| rollout/                |             |\n",
      "|    ep_len_mean          | 11          |\n",
      "|    ep_rew_mean          | 0.0893      |\n",
      "| time/                   |             |\n",
      "|    fps                  | 1127        |\n",
      "|    iterations           | 4           |\n",
      "|    time_elapsed         | 7           |\n",
      "|    total_timesteps      | 8192        |\n",
      "| train/                  |             |\n",
      "|    approx_kl            | 0.031427965 |\n",
      "|    clip_fraction        | 0.273       |\n",
      "|    clip_range           | 0.2         |\n",
      "|    entropy_loss         | -0.597      |\n",
      "|    explained_variance   | 0.0101      |\n",
      "|    learning_rate        | 0.0003      |\n",
      "|    loss                 | -0.0808     |\n",
      "|    n_updates            | 30          |\n",
      "|    policy_gradient_loss | -0.0421     |\n",
      "|    value_loss           | 0.00122     |\n",
      "-----------------------------------------\n",
      "-----------------------------------------\n",
      "| rollout/                |             |\n",
      "|    ep_len_mean          | 11          |\n",
      "|    ep_rew_mean          | 0.109       |\n",
      "| time/                   |             |\n",
      "|    fps                  | 1096        |\n",
      "|    iterations           | 5           |\n",
      "|    time_elapsed         | 9           |\n",
      "|    total_timesteps      | 10240       |\n",
      "| train/                  |             |\n",
      "|    approx_kl            | 0.029706247 |\n",
      "|    clip_fraction        | 0.211       |\n",
      "|    clip_range           | 0.2         |\n",
      "|    entropy_loss         | -0.5        |\n",
      "|    explained_variance   | 0.0735      |\n",
      "|    learning_rate        | 0.0003      |\n",
      "|    loss                 | -0.0701     |\n",
      "|    n_updates            | 40          |\n",
      "|    policy_gradient_loss | -0.0364     |\n",
      "|    value_loss           | 0.000749    |\n",
      "-----------------------------------------\n"
     ]
    },
    {
     "data": {
      "text/plain": "",
      "text/html": "<pre style=\"white-space:pre;overflow-x:auto;line-height:normal;font-family:Menlo,'DejaVu Sans Mono',consolas,'Courier New',monospace\"></pre>\n"
     },
     "metadata": {},
     "output_type": "display_data"
    },
    {
     "data": {
      "text/plain": "\n",
      "text/html": "<pre style=\"white-space:pre;overflow-x:auto;line-height:normal;font-family:Menlo,'DejaVu Sans Mono',consolas,'Courier New',monospace\">\n</pre>\n"
     },
     "metadata": {},
     "output_type": "display_data"
    },
    {
     "data": {
      "text/plain": "<stable_baselines3.ppo.ppo.PPO at 0x144a05780>"
     },
     "execution_count": 18,
     "metadata": {},
     "output_type": "execute_result"
    }
   ],
   "source": [
    "model.learn(total_timesteps=10000, log_interval=1, progress_bar=True)"
   ]
  },
  {
   "cell_type": "code",
   "execution_count": null,
   "metadata": {},
   "outputs": [],
   "source": []
  }
 ],
 "metadata": {
  "kernelspec": {
   "display_name": "Python 3 (ipykernel)",
   "language": "python",
   "name": "python3"
  },
  "language_info": {
   "codemirror_mode": {
    "name": "ipython",
    "version": 3
   },
   "file_extension": ".py",
   "mimetype": "text/x-python",
   "name": "python",
   "nbconvert_exporter": "python",
   "pygments_lexer": "ipython3",
   "version": "3.10.12"
  }
 },
 "nbformat": 4,
 "nbformat_minor": 1
}
